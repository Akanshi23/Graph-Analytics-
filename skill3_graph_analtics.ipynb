{
  "nbformat": 4,
  "nbformat_minor": 0,
  "metadata": {
    "colab": {
      "provenance": [],
      "toc_visible": true,
      "authorship_tag": "ABX9TyPJTY/B0HecfbiAf/MCsioq",
      "include_colab_link": true
    },
    "kernelspec": {
      "name": "python3",
      "display_name": "Python 3"
    },
    "language_info": {
      "name": "python"
    }
  },
  "cells": [
    {
      "cell_type": "markdown",
      "metadata": {
        "id": "view-in-github",
        "colab_type": "text"
      },
      "source": [
        "<a href=\"https://colab.research.google.com/github/Akanshi23/Graph-Analytics-/blob/main/skill3_graph_analtics.ipynb\" target=\"_parent\"><img src=\"https://colab.research.google.com/assets/colab-badge.svg\" alt=\"Open In Colab\"/></a>"
      ]
    },
    {
      "cell_type": "code",
      "execution_count": null,
      "metadata": {
        "colab": {
          "base_uri": "https://localhost:8080/"
        },
        "id": "fCTKdVenJy_R",
        "outputId": "d35cfad3-df31-454a-aa98-61ac405fc01f"
      },
      "outputs": [
        {
          "output_type": "stream",
          "name": "stdout",
          "text": [
            "Shortest distance from s to s: 0\n",
            "Shortest distance from s to a: 1\n",
            "Shortest distance from s to b: 3\n",
            "Shortest distance from s to c: 3\n",
            "Shortest distance from s to d: 2\n",
            "Shortest distance from s to e: 4\n"
          ]
        }
      ],
      "source": [
        "import heapq\n",
        "\n",
        "def dijkstra(graph, start):\n",
        "    distances = {vertex: float('infinity') for vertex in graph}\n",
        "    distances[start] = 0\n",
        "    priority_queue = [(0, start)]\n",
        "\n",
        "    while priority_queue:\n",
        "        current_distance, current_vertex = heapq.heappop(priority_queue)\n",
        "\n",
        "        if current_distance > distances[current_vertex]:\n",
        "            continue\n",
        "\n",
        "        for neighbor, weight in graph[current_vertex].items():\n",
        "            distance = current_distance + weight\n",
        "\n",
        "            if distance < distances[neighbor]:\n",
        "                distances[neighbor] = distance\n",
        "                heapq.heappush(priority_queue, (distance, neighbor))\n",
        "\n",
        "    return distances\n",
        "\n",
        "graph = {\n",
        "    's': {'a': 1, 'b': 5},\n",
        "    'a': {'b': 2, 'c': 2, 'd': 1},\n",
        "    'b': {'d': 2},\n",
        "    'c': {'d': 3, 'e': 1},\n",
        "    'd': {'e': 2},\n",
        "    'e': {}\n",
        "}\n",
        "\n",
        "start_vertex = 's'\n",
        "result = dijkstra(graph, start_vertex)\n",
        "\n",
        "for vertex, distance in result.items():\n",
        "    print(f\"Shortest distance from {start_vertex} to {vertex}: {distance}\")\n"
      ]
    },
    {
      "cell_type": "code",
      "source": [],
      "metadata": {
        "id": "TW1xbAJlKlRS"
      },
      "execution_count": null,
      "outputs": []
    }
  ]
}